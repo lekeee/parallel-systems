{
  "nbformat": 4,
  "nbformat_minor": 0,
  "metadata": {
    "colab": {
      "name": "example.ipynb",
      "provenance": [],
      "collapsed_sections": []
    },
    "kernelspec": {
      "name": "python3",
      "display_name": "Python 3"
    },
    "language_info": {
      "name": "python"
    },
    "accelerator": "GPU"
  },
  "cells": [
    {
      "cell_type": "code",
      "source": [
        "# To show that if there is cuda tookit installed\n",
        "!ls /usr/local"
      ],
      "metadata": {
        "id": "FJNaVYXrsyX1",
        "colab": {
          "base_uri": "https://localhost:8080/"
        },
        "outputId": "50ee4747-5bbd-4bd2-f1b3-9cfaf3b1934a"
      },
      "execution_count": 38,
      "outputs": [
        {
          "output_type": "stream",
          "name": "stdout",
          "text": [
            "bin\t   cuda-10.1  cuda-11.1  _gcs_config_ops.so  licensing\tshare\n",
            "cuda\t   cuda-11    etc\t include\t     man\tsrc\n",
            "cuda-10.0  cuda-11.0  games\t lib\t\t     sbin\txgboost\n"
          ]
        }
      ]
    },
    {
      "cell_type": "code",
      "source": [
        "# To show that if we have the nvcc command\n",
        "!which nvcc"
      ],
      "metadata": {
        "id": "EWeDREa1tIGH",
        "colab": {
          "base_uri": "https://localhost:8080/"
        },
        "outputId": "761fe1a2-1e12-4dad-928f-80258367285d"
      },
      "execution_count": 39,
      "outputs": [
        {
          "output_type": "stream",
          "name": "stdout",
          "text": [
            "/usr/local/cuda/bin/nvcc\n"
          ]
        }
      ]
    },
    {
      "cell_type": "code",
      "source": [
        "# To show the property of the nvidia card(On my one, I use the K80)\n",
        "!nvidia-smi"
      ],
      "metadata": {
        "id": "hctj5aYxtSwK",
        "colab": {
          "base_uri": "https://localhost:8080/"
        },
        "outputId": "64e06684-0d01-4a04-bc15-2f2640ef671a"
      },
      "execution_count": 40,
      "outputs": [
        {
          "output_type": "stream",
          "name": "stdout",
          "text": [
            "Sat Mar 12 05:33:56 2022       \n",
            "+-----------------------------------------------------------------------------+\n",
            "| NVIDIA-SMI 460.32.03    Driver Version: 460.32.03    CUDA Version: 11.2     |\n",
            "|-------------------------------+----------------------+----------------------+\n",
            "| GPU  Name        Persistence-M| Bus-Id        Disp.A | Volatile Uncorr. ECC |\n",
            "| Fan  Temp  Perf  Pwr:Usage/Cap|         Memory-Usage | GPU-Util  Compute M. |\n",
            "|                               |                      |               MIG M. |\n",
            "|===============================+======================+======================|\n",
            "|   0  Tesla K80           Off  | 00000000:00:04.0 Off |                    0 |\n",
            "| N/A   56C    P8    31W / 149W |      0MiB / 11441MiB |      0%      Default |\n",
            "|                               |                      |                  N/A |\n",
            "+-------------------------------+----------------------+----------------------+\n",
            "                                                                               \n",
            "+-----------------------------------------------------------------------------+\n",
            "| Processes:                                                                  |\n",
            "|  GPU   GI   CI        PID   Type   Process name                  GPU Memory |\n",
            "|        ID   ID                                                   Usage      |\n",
            "|=============================================================================|\n",
            "|  No running processes found                                                 |\n",
            "+-----------------------------------------------------------------------------+\n"
          ]
        }
      ]
    },
    {
      "cell_type": "code",
      "source": [
        "# Write a cu file contain the host and kernel code\n",
        "%%writefile hello.cu\n",
        "\n",
        "#include<stdio.h>\n",
        "__global__ void hello(void)\n",
        "{\n",
        "  printf(\"GPU: Hello!\\n\");\n",
        "}\n",
        "int main(int argc,char **argv)\n",
        "{\n",
        "  printf(\"CPU: Hello!\\n\");\n",
        "  hello<<<1,10>>>();\n",
        "  cudaDeviceReset();\n",
        "  return 0;\n",
        "}"
      ],
      "metadata": {
        "colab": {
          "base_uri": "https://localhost:8080/"
        },
        "id": "OmQ-PLNKhX2f",
        "outputId": "19162886-da37-4f24-f4dd-0832048b1048"
      },
      "execution_count": 41,
      "outputs": [
        {
          "output_type": "stream",
          "name": "stdout",
          "text": [
            "Overwriting hello.cu\n"
          ]
        }
      ]
    },
    {
      "cell_type": "code",
      "source": [
        "# Compile the code. The flag is needed if you use the Tesla K80.  \n",
        "!nvcc -arch=sm_37 -gencode=arch=compute_37,code=sm_37 hello.cu -o hello"
      ],
      "metadata": {
        "id": "7wTtatxRtii9",
        "colab": {
          "base_uri": "https://localhost:8080/"
        },
        "outputId": "7ca6a9bc-ff7d-42a8-a809-ab7adc1aa296"
      },
      "execution_count": 42,
      "outputs": [
        {
          "output_type": "stream",
          "name": "stdout",
          "text": [
            "nvcc warning : The 'compute_35', 'compute_37', 'compute_50', 'sm_35', 'sm_37' and 'sm_50' architectures are deprecated, and may be removed in a future release (Use -Wno-deprecated-gpu-targets to suppress warning).\n"
          ]
        }
      ]
    },
    {
      "cell_type": "code",
      "source": [
        "!./hello"
      ],
      "metadata": {
        "id": "fMTrRs5XujfU",
        "colab": {
          "base_uri": "https://localhost:8080/"
        },
        "outputId": "27a8d464-28a1-46f2-dd4a-8cf16a6467f3"
      },
      "execution_count": 43,
      "outputs": [
        {
          "output_type": "stream",
          "name": "stdout",
          "text": [
            "CPU: Hello!\n",
            "GPU: Hello!\n",
            "GPU: Hello!\n",
            "GPU: Hello!\n",
            "GPU: Hello!\n",
            "GPU: Hello!\n",
            "GPU: Hello!\n",
            "GPU: Hello!\n",
            "GPU: Hello!\n",
            "GPU: Hello!\n",
            "GPU: Hello!\n"
          ]
        }
      ]
    }
  ]
}
